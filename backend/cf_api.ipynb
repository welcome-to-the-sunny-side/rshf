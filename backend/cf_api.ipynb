{
 "cells": [
  {
   "cell_type": "code",
   "execution_count": 1,
   "id": "11a27a41-cdaf-4cd9-975a-69bbe420669d",
   "metadata": {},
   "outputs": [],
   "source": [
    "from datetime import datetime\n",
    "from typing import Dict, Any\n",
    "from app.models import Contest\n",
    "from app.codeforces_api import cf_api"
   ]
  },
  {
   "cell_type": "code",
   "execution_count": 4,
   "id": "95cd902e-448b-4c4d-a428-b8e8e6a66ac7",
   "metadata": {},
   "outputs": [
    {
     "data": {
      "text/plain": [
       "datetime.datetime(2025, 5, 25, 10, 25, 17, 419126)"
      ]
     },
     "execution_count": 4,
     "metadata": {},
     "output_type": "execute_result"
    }
   ],
   "source": [
    "datetime.fromtimestamp(datetime.now().timestamp())"
   ]
  },
  {
   "cell_type": "code",
   "execution_count": 6,
   "id": "07342229-f752-42de-b478-94db01d71322",
   "metadata": {},
   "outputs": [],
   "source": [
    "def map_cf_contest_to_internal(cf_contest: Dict[str, Any]) -> Dict[str, Any]:\n",
    "    contest_id = f\"cf_{cf_contest['id']}\"\n",
    "    return {\n",
    "        \"contest_id\": contest_id,\n",
    "        \"contest_name\": cf_contest.get(\"name\", \"Unknown Contest\"),\n",
    "        \"platform\": \"Codeforces\",\n",
    "        \"start_time_posix\": cf_contest.get(\"startTimeSeconds\", 0),\n",
    "        \"duration_seconds\": cf_contest.get(\"durationSeconds\", 0),\n",
    "        \"link\": f\"https://codeforces.com/contest/{cf_contest['id']}\",\n",
    "        \"internal_contest_identifier\": (cf_contest['id']),\n",
    "        \"finished\": cf_contest.get(\"phase\", \"BEFORE\") == \"FINISHED\"\n",
    "    }\n",
    "\n",
    "\n",
    "def fetch_upcoming_contests():\n",
    "    cf_contests = cf_api.contest_list(gym=False)\n",
    "    fetched_contests = []\n",
    "    for contest in cf_contests:\n",
    "        td = (datetime.now() - datetime.fromtimestamp(contest['startTimeSeconds'])).days\n",
    "        if contest['phase'] == 'BEFORE' and ('div' in contest['name'].lower()):\n",
    "            fetched_contests.append(Contest(\n",
    "                **map_cf_contest_to_internal(contest)\n",
    "            ))\n",
    "\n",
    "    return fetched_contests\n",
    "    \n"
   ]
  },
  {
   "cell_type": "code",
   "execution_count": 4,
   "id": "c4362ea7-8e21-427d-8dc0-c54026d31495",
   "metadata": {},
   "outputs": [],
   "source": [
    "cts = cf_api.fetch_finished_contests(15)"
   ]
  },
  {
   "cell_type": "code",
   "execution_count": 5,
   "id": "88aa4742-ad46-4e13-bb87-d4d14ccc4ca7",
   "metadata": {},
   "outputs": [
    {
     "data": {
      "text/plain": [
       "[{'id': 2110,\n",
       "  'name': 'Codeforces Round 1026 (Div. 2)',\n",
       "  'type': 'CF',\n",
       "  'phase': 'FINISHED',\n",
       "  'frozen': False,\n",
       "  'durationSeconds': 7200,\n",
       "  'startTimeSeconds': 1748097300,\n",
       "  'relativeTimeSeconds': 52852},\n",
       " {'id': 2109,\n",
       "  'name': 'Codeforces Round 1025 (Div. 2)',\n",
       "  'type': 'CF',\n",
       "  'phase': 'FINISHED',\n",
       "  'frozen': False,\n",
       "  'durationSeconds': 8100,\n",
       "  'startTimeSeconds': 1747492500,\n",
       "  'relativeTimeSeconds': 657652},\n",
       " {'id': 2101,\n",
       "  'name': 'Codeforces Round 1024 (Div. 1)',\n",
       "  'type': 'CF',\n",
       "  'phase': 'FINISHED',\n",
       "  'frozen': False,\n",
       "  'durationSeconds': 9000,\n",
       "  'startTimeSeconds': 1746974100,\n",
       "  'relativeTimeSeconds': 1176052},\n",
       " {'id': 2102,\n",
       "  'name': 'Codeforces Round 1024 (Div. 2)',\n",
       "  'type': 'CF',\n",
       "  'phase': 'FINISHED',\n",
       "  'frozen': False,\n",
       "  'durationSeconds': 9000,\n",
       "  'startTimeSeconds': 1746974100,\n",
       "  'relativeTimeSeconds': 1176052}]"
      ]
     },
     "execution_count": 5,
     "metadata": {},
     "output_type": "execute_result"
    }
   ],
   "source": [
    "cts"
   ]
  },
  {
   "cell_type": "code",
   "execution_count": null,
   "id": "80e6da0c-cd04-4ce5-9fa3-5bf807a0e080",
   "metadata": {},
   "outputs": [],
   "source": []
  }
 ],
 "metadata": {
  "kernelspec": {
   "display_name": "Python 3 (ipykernel)",
   "language": "python",
   "name": "python3"
  },
  "language_info": {
   "codemirror_mode": {
    "name": "ipython",
    "version": 3
   },
   "file_extension": ".py",
   "mimetype": "text/x-python",
   "name": "python",
   "nbconvert_exporter": "python",
   "pygments_lexer": "ipython3",
   "version": "3.13.3"
  }
 },
 "nbformat": 4,
 "nbformat_minor": 5
}
