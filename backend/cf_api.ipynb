{
 "cells": [
  {
   "cell_type": "code",
   "execution_count": 1,
   "id": "11a27a41-cdaf-4cd9-975a-69bbe420669d",
   "metadata": {},
   "outputs": [],
   "source": [
    "from app.codeforces_api import cf_api\n",
    "from datetime import datetime"
   ]
  },
  {
   "cell_type": "code",
   "execution_count": 4,
   "id": "95cd902e-448b-4c4d-a428-b8e8e6a66ac7",
   "metadata": {},
   "outputs": [
    {
     "data": {
      "text/plain": [
       "datetime.datetime(2025, 5, 25, 20, 9, 42, 555373)"
      ]
     },
     "execution_count": 4,
     "metadata": {},
     "output_type": "execute_result"
    }
   ],
   "source": [
    "datetime.fromtimestamp(datetime.now().timestamp())"
   ]
  },
  {
   "cell_type": "code",
   "execution_count": 2,
   "id": "32073407-8fe9-4267-aced-9ba8b4697f38",
   "metadata": {},
   "outputs": [],
   "source": [
    "standings = cf_api.contest_standings(1101)"
   ]
  },
  {
   "cell_type": "code",
   "execution_count": 4,
   "id": "9cbfb984-3e41-48e9-8d19-aac7d62b152c",
   "metadata": {},
   "outputs": [
    {
     "data": {
      "text/plain": [
       "{'handle': 'krijgertje', 'rank': 1, 'points': 7.0, 'penalty': 182}"
      ]
     },
     "execution_count": 4,
     "metadata": {},
     "output_type": "execute_result"
    }
   ],
   "source": [
    "standings[\"rows\"][0]"
   ]
  },
  {
   "cell_type": "code",
   "execution_count": 12,
   "id": "42277dd7-d57d-4b04-869e-dbfe1bb37234",
   "metadata": {},
   "outputs": [
    {
     "data": {
      "text/plain": [
       "{'handle': 'krijgertje', 'rank': 1, 'points': 7.0}"
      ]
     },
     "execution_count": 12,
     "metadata": {},
     "output_type": "execute_result"
    }
   ],
   "source": [
    "el = standings[\"rows\"][0]\n",
    "\n",
    "d = {\n",
    "    'handle': el['party']['members'][0]['handle'],\n",
    "    'rank': el['rank'],\n",
    "    'points': el['points']\n",
    "}\n",
    "\n",
    "d"
   ]
  },
  {
   "cell_type": "code",
   "execution_count": 6,
   "id": "07342229-f752-42de-b478-94db01d71322",
   "metadata": {},
   "outputs": [],
   "source": [
    "def map_cf_contest_to_internal(cf_contest: Dict[str, Any]) -> Dict[str, Any]:\n",
    "    contest_id = f\"cf_{cf_contest['id']}\"\n",
    "    return {\n",
    "        \"contest_id\": contest_id,\n",
    "        \"contest_name\": cf_contest.get(\"name\", \"Unknown Contest\"),\n",
    "        \"platform\": \"Codeforces\",\n",
    "        \"start_time_posix\": cf_contest.get(\"startTimeSeconds\", 0),\n",
    "        \"duration_seconds\": cf_contest.get(\"durationSeconds\", 0),\n",
    "        \"link\": f\"https://codeforces.com/contest/{cf_contest['id']}\",\n",
    "        \"internal_contest_identifier\": (cf_contest['id']),\n",
    "        \"finished\": cf_contest.get(\"phase\", \"BEFORE\") == \"FINISHED\"\n",
    "    }\n",
    "\n",
    "\n",
    "def fetch_upcoming_contests():\n",
    "    cf_contests = cf_api.contest_list(gym=False)\n",
    "    fetched_contests = []\n",
    "    for contest in cf_contests:\n",
    "        td = (datetime.now() - datetime.fromtimestamp(contest['startTimeSeconds'])).days\n",
    "        if contest['phase'] == 'BEFORE' and ('div' in contest['name'].lower()):\n",
    "            fetched_contests.append(Contest(\n",
    "                **map_cf_contest_to_internal(contest)\n",
    "            ))\n",
    "\n",
    "    return fetched_contests\n",
    "    \n"
   ]
  },
  {
   "cell_type": "code",
   "execution_count": 4,
   "id": "c4362ea7-8e21-427d-8dc0-c54026d31495",
   "metadata": {},
   "outputs": [],
   "source": [
    "cts = cf_api.fetch_finished_contests(15)"
   ]
  },
  {
   "cell_type": "code",
   "execution_count": 5,
   "id": "88aa4742-ad46-4e13-bb87-d4d14ccc4ca7",
   "metadata": {},
   "outputs": [
    {
     "data": {
      "text/plain": [
       "[{'id': 2110,\n",
       "  'name': 'Codeforces Round 1026 (Div. 2)',\n",
       "  'type': 'CF',\n",
       "  'phase': 'FINISHED',\n",
       "  'frozen': False,\n",
       "  'durationSeconds': 7200,\n",
       "  'startTimeSeconds': 1748097300,\n",
       "  'relativeTimeSeconds': 52852},\n",
       " {'id': 2109,\n",
       "  'name': 'Codeforces Round 1025 (Div. 2)',\n",
       "  'type': 'CF',\n",
       "  'phase': 'FINISHED',\n",
       "  'frozen': False,\n",
       "  'durationSeconds': 8100,\n",
       "  'startTimeSeconds': 1747492500,\n",
       "  'relativeTimeSeconds': 657652},\n",
       " {'id': 2101,\n",
       "  'name': 'Codeforces Round 1024 (Div. 1)',\n",
       "  'type': 'CF',\n",
       "  'phase': 'FINISHED',\n",
       "  'frozen': False,\n",
       "  'durationSeconds': 9000,\n",
       "  'startTimeSeconds': 1746974100,\n",
       "  'relativeTimeSeconds': 1176052},\n",
       " {'id': 2102,\n",
       "  'name': 'Codeforces Round 1024 (Div. 2)',\n",
       "  'type': 'CF',\n",
       "  'phase': 'FINISHED',\n",
       "  'frozen': False,\n",
       "  'durationSeconds': 9000,\n",
       "  'startTimeSeconds': 1746974100,\n",
       "  'relativeTimeSeconds': 1176052}]"
      ]
     },
     "execution_count": 5,
     "metadata": {},
     "output_type": "execute_result"
    }
   ],
   "source": [
    "cts"
   ]
  },
  {
   "cell_type": "code",
   "execution_count": 13,
   "id": "80e6da0c-cd04-4ce5-9fa3-5bf807a0e080",
   "metadata": {},
   "outputs": [
    {
     "name": "stdout",
     "output_type": "stream",
     "text": [
      "dropping all tables...\n",
      "all tables dropped.\n",
      "creating tables from models...\n",
      "schema rebuilt.\n"
     ]
    }
   ],
   "source": [
    "from app.utils import reset_db\n",
    "\n",
    "reset_db()"
   ]
  },
  {
   "cell_type": "code",
   "execution_count": 7,
   "id": "4255805f-28c5-47d1-96c7-3f463ddb576e",
   "metadata": {},
   "outputs": [],
   "source": [
    "from app.db_utils import (\n",
    "    reset_db,\n",
    "    drop_table, \n",
    "    to_df, \n",
    "    get_table_names, \n",
    "    count_records, \n",
    "    backup_table,\n",
    "    get_table_schema,\n",
    "    get_session,\n",
    "    execute_raw_query\n",
    ")"
   ]
  },
  {
   "cell_type": "code",
   "execution_count": 12,
   "id": "92f1d72b-396e-487e-a4bb-abad26b1bfd8",
   "metadata": {},
   "outputs": [
    {
     "data": {
      "text/html": [
       "<div>\n",
       "<style scoped>\n",
       "    .dataframe tbody tr th:only-of-type {\n",
       "        vertical-align: middle;\n",
       "    }\n",
       "\n",
       "    .dataframe tbody tr th {\n",
       "        vertical-align: top;\n",
       "    }\n",
       "\n",
       "    .dataframe thead th {\n",
       "        text-align: right;\n",
       "    }\n",
       "</style>\n",
       "<table border=\"1\" class=\"dataframe\">\n",
       "  <thead>\n",
       "    <tr style=\"text-align: right;\">\n",
       "      <th></th>\n",
       "      <th>user_id</th>\n",
       "      <th>role</th>\n",
       "      <th>cf_handle</th>\n",
       "      <th>atcoder_handle</th>\n",
       "      <th>codechef_handle</th>\n",
       "      <th>twitter_handle</th>\n",
       "      <th>internal_default_rated</th>\n",
       "      <th>trusted_score</th>\n",
       "      <th>email_id</th>\n",
       "      <th>hashed_password</th>\n",
       "      <th>timestamp</th>\n",
       "    </tr>\n",
       "  </thead>\n",
       "  <tbody>\n",
       "  </tbody>\n",
       "</table>\n",
       "</div>"
      ],
      "text/plain": [
       "Empty DataFrame\n",
       "Columns: [user_id, role, cf_handle, atcoder_handle, codechef_handle, twitter_handle, internal_default_rated, trusted_score, email_id, hashed_password, timestamp]\n",
       "Index: []"
      ]
     },
     "execution_count": 12,
     "metadata": {},
     "output_type": "execute_result"
    }
   ],
   "source": [
    "to_df(\"users\")"
   ]
  },
  {
   "cell_type": "code",
   "execution_count": null,
   "id": "0403b360-1982-44eb-8c4d-47c751006077",
   "metadata": {},
   "outputs": [],
   "source": []
  }
 ],
 "metadata": {
  "kernelspec": {
   "display_name": "Python 3 (ipykernel)",
   "language": "python",
   "name": "python3"
  },
  "language_info": {
   "codemirror_mode": {
    "name": "ipython",
    "version": 3
   },
   "file_extension": ".py",
   "mimetype": "text/x-python",
   "name": "python",
   "nbconvert_exporter": "python",
   "pygments_lexer": "ipython3",
   "version": "3.13.3"
  }
 },
 "nbformat": 4,
 "nbformat_minor": 5
}
