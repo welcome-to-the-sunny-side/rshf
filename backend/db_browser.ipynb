{
 "cells": [
  {
   "cell_type": "code",
   "execution_count": 1,
   "id": "c4a268bd-f2a6-4ada-95ee-f8e901401f56",
   "metadata": {},
   "outputs": [
    {
     "name": "stderr",
     "output_type": "stream",
     "text": [
      "/Users/evapilotno17/central_dogma/rshf/backend/venv/lib/python3.13/site-packages/pydantic/_internal/_config.py:373: UserWarning: Valid config keys have changed in V2:\n",
      "* 'orm_mode' has been renamed to 'from_attributes'\n",
      "  warnings.warn(message, UserWarning)\n"
     ]
    }
   ],
   "source": [
    "from app.db_utils import (\n",
    "    reset_db,\n",
    "    drop_table, \n",
    "    to_df, \n",
    "    get_table_names, \n",
    "    count_records, \n",
    "    backup_table,\n",
    "    get_table_schema,\n",
    "    get_session,\n",
    "    execute_raw_query\n",
    ")\n",
    "import asyncio\n",
    "from app.tasks import trigger_contest_sync\n",
    "from app.crud import update_upcoming_contests\n",
    "from app.database import SessionLocal"
   ]
  },
  {
   "cell_type": "code",
   "execution_count": 2,
   "id": "bd51dc79-0bf7-455a-9970-5dea47fb22e1",
   "metadata": {},
   "outputs": [],
   "source": [
    "db = SessionLocal()"
   ]
  },
  {
   "cell_type": "code",
   "execution_count": 3,
   "id": "cc845482-ed54-411b-b27f-65a66b6ca311",
   "metadata": {},
   "outputs": [],
   "source": [
    "update_upcoming_contests(db)"
   ]
  },
  {
   "cell_type": "code",
   "execution_count": 4,
   "id": "e871e336-b2c0-48e3-8a8a-3db548d65d8f",
   "metadata": {},
   "outputs": [
    {
     "data": {
      "text/html": [
       "<div>\n",
       "<style scoped>\n",
       "    .dataframe tbody tr th:only-of-type {\n",
       "        vertical-align: middle;\n",
       "    }\n",
       "\n",
       "    .dataframe tbody tr th {\n",
       "        vertical-align: top;\n",
       "    }\n",
       "\n",
       "    .dataframe thead th {\n",
       "        text-align: right;\n",
       "    }\n",
       "</style>\n",
       "<table border=\"1\" class=\"dataframe\">\n",
       "  <thead>\n",
       "    <tr style=\"text-align: right;\">\n",
       "      <th></th>\n",
       "      <th>contest_id</th>\n",
       "      <th>contest_name</th>\n",
       "      <th>platform</th>\n",
       "      <th>start_time_posix</th>\n",
       "      <th>duration_seconds</th>\n",
       "      <th>link</th>\n",
       "      <th>internal_contest_identifier</th>\n",
       "      <th>standings</th>\n",
       "      <th>finished</th>\n",
       "      <th>timestamp</th>\n",
       "    </tr>\n",
       "  </thead>\n",
       "  <tbody>\n",
       "    <tr>\n",
       "      <th>0</th>\n",
       "      <td>cf_2112</td>\n",
       "      <td>Educational Codeforces Round 180 (Rated for Di...</td>\n",
       "      <td>Codeforces</td>\n",
       "      <td>1750689300</td>\n",
       "      <td>7200</td>\n",
       "      <td>https://codeforces.com/contest/2112</td>\n",
       "      <td>2112</td>\n",
       "      <td>None</td>\n",
       "      <td>False</td>\n",
       "      <td>2025-05-25 05:27:43.347434</td>\n",
       "    </tr>\n",
       "    <tr>\n",
       "      <th>1</th>\n",
       "      <td>cf_2113</td>\n",
       "      <td>Codeforces Round (Div. 2)</td>\n",
       "      <td>Codeforces</td>\n",
       "      <td>1749978300</td>\n",
       "      <td>7200</td>\n",
       "      <td>https://codeforces.com/contest/2113</td>\n",
       "      <td>2113</td>\n",
       "      <td>None</td>\n",
       "      <td>False</td>\n",
       "      <td>2025-05-25 05:27:43.347434</td>\n",
       "    </tr>\n",
       "    <tr>\n",
       "      <th>2</th>\n",
       "      <td>cf_2111</td>\n",
       "      <td>Educational Codeforces Round 179 (Rated for Di...</td>\n",
       "      <td>Codeforces</td>\n",
       "      <td>1748961300</td>\n",
       "      <td>7200</td>\n",
       "      <td>https://codeforces.com/contest/2111</td>\n",
       "      <td>2111</td>\n",
       "      <td>None</td>\n",
       "      <td>False</td>\n",
       "      <td>2025-05-25 05:27:43.347434</td>\n",
       "    </tr>\n",
       "    <tr>\n",
       "      <th>3</th>\n",
       "      <td>cf_2114</td>\n",
       "      <td>Codeforces Round  1027 (Div. 3)</td>\n",
       "      <td>Codeforces</td>\n",
       "      <td>1748270100</td>\n",
       "      <td>8100</td>\n",
       "      <td>https://codeforces.com/contest/2114</td>\n",
       "      <td>2114</td>\n",
       "      <td>None</td>\n",
       "      <td>False</td>\n",
       "      <td>2025-05-25 05:27:43.347434</td>\n",
       "    </tr>\n",
       "  </tbody>\n",
       "</table>\n",
       "</div>"
      ],
      "text/plain": [
       "  contest_id                                       contest_name    platform  \\\n",
       "0    cf_2112  Educational Codeforces Round 180 (Rated for Di...  Codeforces   \n",
       "1    cf_2113                          Codeforces Round (Div. 2)  Codeforces   \n",
       "2    cf_2111  Educational Codeforces Round 179 (Rated for Di...  Codeforces   \n",
       "3    cf_2114                    Codeforces Round  1027 (Div. 3)  Codeforces   \n",
       "\n",
       "   start_time_posix  duration_seconds                                 link  \\\n",
       "0        1750689300              7200  https://codeforces.com/contest/2112   \n",
       "1        1749978300              7200  https://codeforces.com/contest/2113   \n",
       "2        1748961300              7200  https://codeforces.com/contest/2111   \n",
       "3        1748270100              8100  https://codeforces.com/contest/2114   \n",
       "\n",
       "  internal_contest_identifier standings  finished                  timestamp  \n",
       "0                        2112      None     False 2025-05-25 05:27:43.347434  \n",
       "1                        2113      None     False 2025-05-25 05:27:43.347434  \n",
       "2                        2111      None     False 2025-05-25 05:27:43.347434  \n",
       "3                        2114      None     False 2025-05-25 05:27:43.347434  "
      ]
     },
     "execution_count": 4,
     "metadata": {},
     "output_type": "execute_result"
    }
   ],
   "source": [
    "to_df(\"contests\")"
   ]
  },
  {
   "cell_type": "code",
   "execution_count": null,
   "id": "6ce33322-2414-4b07-b48b-1ee2faa9a92c",
   "metadata": {},
   "outputs": [],
   "source": []
  }
 ],
 "metadata": {
  "kernelspec": {
   "display_name": "Python 3 (ipykernel)",
   "language": "python",
   "name": "python3"
  },
  "language_info": {
   "codemirror_mode": {
    "name": "ipython",
    "version": 3
   },
   "file_extension": ".py",
   "mimetype": "text/x-python",
   "name": "python",
   "nbconvert_exporter": "python",
   "pygments_lexer": "ipython3",
   "version": "3.13.3"
  }
 },
 "nbformat": 4,
 "nbformat_minor": 5
}
