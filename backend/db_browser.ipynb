{
 "cells": [
  {
   "cell_type": "code",
   "execution_count": 1,
   "id": "c4a268bd-f2a6-4ada-95ee-f8e901401f56",
   "metadata": {},
   "outputs": [
    {
     "name": "stderr",
     "output_type": "stream",
     "text": [
      "/Users/evapilotno17/central_dogma/rshf/backend/venv/lib/python3.13/site-packages/pydantic/_internal/_config.py:373: UserWarning: Valid config keys have changed in V2:\n",
      "* 'orm_mode' has been renamed to 'from_attributes'\n",
      "  warnings.warn(message, UserWarning)\n"
     ]
    }
   ],
   "source": [
    "from app.db_utils import (\n",
    "    reset_db,\n",
    "    drop_table, \n",
    "    to_df, \n",
    "    get_table_names, \n",
    "    count_records, \n",
    "    backup_table,\n",
    "    get_table_schema,\n",
    "    get_session,\n",
    "    execute_raw_query\n",
    ")\n",
    "import asyncio\n",
    "# from app.tasks import trigger_contest_sync\n",
    "from app.crud import update_upcoming_contests\n",
    "from app.database import SessionLocal"
   ]
  },
  {
   "cell_type": "code",
   "execution_count": 18,
   "id": "bd51dc79-0bf7-455a-9970-5dea47fb22e1",
   "metadata": {},
   "outputs": [
    {
     "name": "stdout",
     "output_type": "stream",
     "text": [
      "1 2 3\n"
     ]
    }
   ],
   "source": [
    "d = {\n",
    "    'a': 1,\n",
    "    'b': 2,\n",
    "    'c': 3\n",
    "}\n",
    "\n",
    "def f(a=None, b=None, c=None):\n",
    "    print(a, b, c)\n",
    "\n",
    "f(**d)"
   ]
  },
  {
   "cell_type": "code",
   "execution_count": 17,
   "id": "cc845482-ed54-411b-b27f-65a66b6ca311",
   "metadata": {},
   "outputs": [
    {
     "ename": "NameError",
     "evalue": "name 'kw' is not defined",
     "output_type": "error",
     "traceback": [
      "\u001b[31m---------------------------------------------------------------------------\u001b[39m",
      "\u001b[31mNameError\u001b[39m                                 Traceback (most recent call last)",
      "\u001b[36mCell\u001b[39m\u001b[36m \u001b[39m\u001b[32mIn[17]\u001b[39m\u001b[32m, line 1\u001b[39m\n\u001b[32m----> \u001b[39m\u001b[32m1\u001b[39m \u001b[43msome_function\u001b[49m\u001b[43m(\u001b[49m\u001b[43m*\u001b[49m\u001b[43m*\u001b[49m\u001b[43mSessionLocal\u001b[49m\u001b[43m.\u001b[49m\u001b[34;43m__dict__\u001b[39;49m\u001b[43m)\u001b[49m\n",
      "\u001b[36mCell\u001b[39m\u001b[36m \u001b[39m\u001b[32mIn[15]\u001b[39m\u001b[32m, line 2\u001b[39m, in \u001b[36msome_function\u001b[39m\u001b[34m(*args, **kwargs)\u001b[39m\n\u001b[32m      1\u001b[39m \u001b[38;5;28;01mdef\u001b[39;00m\u001b[38;5;250m \u001b[39m\u001b[34msome_function\u001b[39m(*args, **kwargs):\n\u001b[32m----> \u001b[39m\u001b[32m2\u001b[39m     \u001b[38;5;28mprint\u001b[39m(\u001b[43mkw\u001b[49m)\n",
      "\u001b[31mNameError\u001b[39m: name 'kw' is not defined"
     ]
    }
   ],
   "source": [
    "some_function(**SessionLocal.__dict__)"
   ]
  },
  {
   "cell_type": "code",
   "execution_count": 6,
   "id": "e35a5ad8-4a6b-48b2-81ab-529db82ec029",
   "metadata": {},
   "outputs": [
    {
     "data": {
      "text/plain": [
       "[1, 1, 2]"
      ]
     },
     "execution_count": 6,
     "metadata": {},
     "output_type": "execute_result"
    }
   ],
   "source": []
  },
  {
   "cell_type": "code",
   "execution_count": 23,
   "id": "e871e336-b2c0-48e3-8a8a-3db548d65d8f",
   "metadata": {},
   "outputs": [
    {
     "data": {
      "text/html": [
       "<div>\n",
       "<style scoped>\n",
       "    .dataframe tbody tr th:only-of-type {\n",
       "        vertical-align: middle;\n",
       "    }\n",
       "\n",
       "    .dataframe tbody tr th {\n",
       "        vertical-align: top;\n",
       "    }\n",
       "\n",
       "    .dataframe thead th {\n",
       "        text-align: right;\n",
       "    }\n",
       "</style>\n",
       "<table border=\"1\" class=\"dataframe\">\n",
       "  <thead>\n",
       "    <tr style=\"text-align: right;\">\n",
       "      <th></th>\n",
       "      <th>user_id</th>\n",
       "      <th>group_id</th>\n",
       "      <th>contest_id</th>\n",
       "      <th>rank</th>\n",
       "      <th>delta</th>\n",
       "      <th>rating_before</th>\n",
       "      <th>rating_after</th>\n",
       "      <th>timestamp</th>\n",
       "    </tr>\n",
       "  </thead>\n",
       "  <tbody>\n",
       "    <tr>\n",
       "      <th>0</th>\n",
       "      <td>testUser1726</td>\n",
       "      <td>main</td>\n",
       "      <td>c0</td>\n",
       "      <td>None</td>\n",
       "      <td>None</td>\n",
       "      <td>1500</td>\n",
       "      <td>None</td>\n",
       "      <td>2025-05-25 16:44:27.268643</td>\n",
       "    </tr>\n",
       "    <tr>\n",
       "      <th>1</th>\n",
       "      <td>testUser3835</td>\n",
       "      <td>main</td>\n",
       "      <td>c0</td>\n",
       "      <td>None</td>\n",
       "      <td>None</td>\n",
       "      <td>1500</td>\n",
       "      <td>None</td>\n",
       "      <td>2025-05-25 16:44:27.268643</td>\n",
       "    </tr>\n",
       "    <tr>\n",
       "      <th>2</th>\n",
       "      <td>testUser3036</td>\n",
       "      <td>main</td>\n",
       "      <td>c0</td>\n",
       "      <td>None</td>\n",
       "      <td>None</td>\n",
       "      <td>1500</td>\n",
       "      <td>None</td>\n",
       "      <td>2025-05-25 16:44:27.268643</td>\n",
       "    </tr>\n",
       "    <tr>\n",
       "      <th>3</th>\n",
       "      <td>testUser5213</td>\n",
       "      <td>main</td>\n",
       "      <td>c0</td>\n",
       "      <td>None</td>\n",
       "      <td>None</td>\n",
       "      <td>1500</td>\n",
       "      <td>None</td>\n",
       "      <td>2025-05-25 16:44:27.268643</td>\n",
       "    </tr>\n",
       "    <tr>\n",
       "      <th>4</th>\n",
       "      <td>testUser4940</td>\n",
       "      <td>main</td>\n",
       "      <td>c0</td>\n",
       "      <td>None</td>\n",
       "      <td>None</td>\n",
       "      <td>1500</td>\n",
       "      <td>None</td>\n",
       "      <td>2025-05-25 16:44:27.268643</td>\n",
       "    </tr>\n",
       "    <tr>\n",
       "      <th>...</th>\n",
       "      <td>...</td>\n",
       "      <td>...</td>\n",
       "      <td>...</td>\n",
       "      <td>...</td>\n",
       "      <td>...</td>\n",
       "      <td>...</td>\n",
       "      <td>...</td>\n",
       "      <td>...</td>\n",
       "    </tr>\n",
       "    <tr>\n",
       "      <th>47167</th>\n",
       "      <td>testUser3160</td>\n",
       "      <td>g29</td>\n",
       "      <td>c3</td>\n",
       "      <td>None</td>\n",
       "      <td>None</td>\n",
       "      <td>1500</td>\n",
       "      <td>None</td>\n",
       "      <td>2025-05-25 16:44:27.268643</td>\n",
       "    </tr>\n",
       "    <tr>\n",
       "      <th>47168</th>\n",
       "      <td>testUser4067</td>\n",
       "      <td>g29</td>\n",
       "      <td>c3</td>\n",
       "      <td>None</td>\n",
       "      <td>None</td>\n",
       "      <td>1500</td>\n",
       "      <td>None</td>\n",
       "      <td>2025-05-25 16:44:27.268643</td>\n",
       "    </tr>\n",
       "    <tr>\n",
       "      <th>47169</th>\n",
       "      <td>testUser2897</td>\n",
       "      <td>g29</td>\n",
       "      <td>c3</td>\n",
       "      <td>None</td>\n",
       "      <td>None</td>\n",
       "      <td>1500</td>\n",
       "      <td>None</td>\n",
       "      <td>2025-05-25 16:44:27.268643</td>\n",
       "    </tr>\n",
       "    <tr>\n",
       "      <th>47170</th>\n",
       "      <td>testUser1125</td>\n",
       "      <td>g29</td>\n",
       "      <td>c3</td>\n",
       "      <td>None</td>\n",
       "      <td>None</td>\n",
       "      <td>1500</td>\n",
       "      <td>None</td>\n",
       "      <td>2025-05-25 16:44:27.268643</td>\n",
       "    </tr>\n",
       "    <tr>\n",
       "      <th>47171</th>\n",
       "      <td>testUser956</td>\n",
       "      <td>g29</td>\n",
       "      <td>c3</td>\n",
       "      <td>None</td>\n",
       "      <td>None</td>\n",
       "      <td>1500</td>\n",
       "      <td>None</td>\n",
       "      <td>2025-05-25 16:44:27.268643</td>\n",
       "    </tr>\n",
       "  </tbody>\n",
       "</table>\n",
       "<p>47172 rows × 8 columns</p>\n",
       "</div>"
      ],
      "text/plain": [
       "            user_id group_id contest_id  rank delta  rating_before  \\\n",
       "0      testUser1726     main         c0  None  None           1500   \n",
       "1      testUser3835     main         c0  None  None           1500   \n",
       "2      testUser3036     main         c0  None  None           1500   \n",
       "3      testUser5213     main         c0  None  None           1500   \n",
       "4      testUser4940     main         c0  None  None           1500   \n",
       "...             ...      ...        ...   ...   ...            ...   \n",
       "47167  testUser3160      g29         c3  None  None           1500   \n",
       "47168  testUser4067      g29         c3  None  None           1500   \n",
       "47169  testUser2897      g29         c3  None  None           1500   \n",
       "47170  testUser1125      g29         c3  None  None           1500   \n",
       "47171   testUser956      g29         c3  None  None           1500   \n",
       "\n",
       "      rating_after                  timestamp  \n",
       "0             None 2025-05-25 16:44:27.268643  \n",
       "1             None 2025-05-25 16:44:27.268643  \n",
       "2             None 2025-05-25 16:44:27.268643  \n",
       "3             None 2025-05-25 16:44:27.268643  \n",
       "4             None 2025-05-25 16:44:27.268643  \n",
       "...            ...                        ...  \n",
       "47167         None 2025-05-25 16:44:27.268643  \n",
       "47168         None 2025-05-25 16:44:27.268643  \n",
       "47169         None 2025-05-25 16:44:27.268643  \n",
       "47170         None 2025-05-25 16:44:27.268643  \n",
       "47171         None 2025-05-25 16:44:27.268643  \n",
       "\n",
       "[47172 rows x 8 columns]"
      ]
     },
     "execution_count": 23,
     "metadata": {},
     "output_type": "execute_result"
    }
   ],
   "source": [
    "to_df(\"contest_participations\")"
   ]
  },
  {
   "cell_type": "code",
   "execution_count": null,
   "id": "6ce33322-2414-4b07-b48b-1ee2faa9a92c",
   "metadata": {},
   "outputs": [],
   "source": []
  },
  {
   "cell_type": "code",
   "execution_count": null,
   "id": "6065f4ab-7f1a-411d-889f-3f5f7c45ae4b",
   "metadata": {},
   "outputs": [],
   "source": []
  }
 ],
 "metadata": {
  "kernelspec": {
   "display_name": "Python 3 (ipykernel)",
   "language": "python",
   "name": "python3"
  },
  "language_info": {
   "codemirror_mode": {
    "name": "ipython",
    "version": 3
   },
   "file_extension": ".py",
   "mimetype": "text/x-python",
   "name": "python",
   "nbconvert_exporter": "python",
   "pygments_lexer": "ipython3",
   "version": "3.13.3"
  }
 },
 "nbformat": 4,
 "nbformat_minor": 5
}
